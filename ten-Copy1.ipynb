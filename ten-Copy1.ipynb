{
 "cells": [
  {
   "cell_type": "markdown",
   "metadata": {},
   "source": [
    "# Thermal Image Enhancement Network (TEN) - IROS 2016\n",
    "Thermal Image Enhancement using Convolution Neural Network"
   ]
  },
  {
   "cell_type": "code",
   "execution_count": 7,
   "metadata": {},
   "outputs": [],
   "source": [
    "import numpy as np\n",
    "import torch\n",
    "import torchvision\n",
    "from torch import nn\n",
    "from torch.utils.data.dataset import Dataset\n",
    "from torchvision import transforms\n",
    "from torch.autograd import Variable\n",
    "\n",
    "from scipy.ndimage.filters import gaussian_filter\n",
    "from scipy.misc import imresize\n",
    "\n",
    "import matplotlib.pyplot as plt\n",
    "import matplotlib.image as mpimg\n",
    "\n",
    "import imageio\n",
    "\n",
    "import os\n",
    "import random\n",
    "from time import time\n",
    "\n",
    "from sklearn.feature_extraction import image\n",
    "\n",
    "from tqdm import tqdm\n",
    "\n",
    "%matplotlib inline"
   ]
  },
  {
   "cell_type": "markdown",
   "metadata": {},
   "source": [
    "## Parameters"
   ]
  },
  {
   "cell_type": "code",
   "execution_count": 8,
   "metadata": {},
   "outputs": [],
   "source": [
    "learning_rate = 0.001\n",
    "num_epochs = 2\n",
    "weight_decay = 5e-4\n",
    "scale_factor = 2"
   ]
  },
  {
   "cell_type": "markdown",
   "metadata": {},
   "source": [
    "## Helper Methods"
   ]
  },
  {
   "cell_type": "code",
   "execution_count": 9,
   "metadata": {},
   "outputs": [],
   "source": [
    "def blur_and_upscale(patch,scale_factor):\n",
    "    patch = gaussian_filter(patch,sigma=scale_factor)\n",
    "#     patch = imresize(patch,(36*scale_factor,36*scale_factor),interp='cubic')\n",
    "    return patch"
   ]
  },
  {
   "cell_type": "code",
   "execution_count": 10,
   "metadata": {},
   "outputs": [],
   "source": [
    "def save_checkpoint(state, output_dir, filename):\n",
    "    torch.save(state, os.path.join(output_dir,filename))"
   ]
  },
  {
   "cell_type": "markdown",
   "metadata": {},
   "source": [
    "## Image Transforms"
   ]
  },
  {
   "cell_type": "code",
   "execution_count": 11,
   "metadata": {},
   "outputs": [],
   "source": [
    "img_transform = transforms.Compose([\n",
    "    transforms.ToTensor(),\n",
    "])"
   ]
  },
  {
   "cell_type": "markdown",
   "metadata": {},
   "source": [
    "## Dataset"
   ]
  },
  {
   "cell_type": "code",
   "execution_count": 12,
   "metadata": {},
   "outputs": [],
   "source": [
    "dataset_train_path = '/DATA1/chaitanya/ninad3/dataset/rgb91/'\n",
    "assert(os.path.exists(dataset_train_path))"
   ]
  },
  {
   "cell_type": "code",
   "execution_count": 13,
   "metadata": {},
   "outputs": [],
   "source": [
    "class rgb91(Dataset):\n",
    "    \n",
    "    def __init__(self,path,scale,transform=None):\n",
    "        \n",
    "        assert(os.path.exists(path))\n",
    "        self.path = path\n",
    "        self.scale = scale\n",
    "    \n",
    "    def __len__(self):\n",
    "        \n",
    "        return len(os.listdir(self.path))\n",
    "    \n",
    "    def __getitem__(self,idx):\n",
    "        \n",
    "        infoDict = {}\n",
    "        infoDict['idx'] = idx\n",
    "        \n",
    "        imgList = os.listdir(self.path)\n",
    "        imgName = imgList[idx]\n",
    "        \n",
    "        imgPath = os.path.join(self.path,imgName)\n",
    "        \n",
    "        infoDict['name'] = imgName\n",
    "        infoDict['path'] = imgPath\n",
    "        \n",
    "        imgOriginal = imageio.imread(imgPath).dot([0.299, 0.587, 0.114])\n",
    "                \n",
    "        infoDict['width'] = imgOriginal.shape[0]\n",
    "        infoDict['height'] = imgOriginal.shape[1]\n",
    "\n",
    "        infoDict['image'] = imgOriginal\n",
    "        \n",
    "        orig_patches = image.extract_patches_2d(imgOriginal, (36, 36))\n",
    "        \n",
    "        orig_patch_list = []\n",
    "        patches = []\n",
    "        \n",
    "        for i in range(orig_patches.shape[0]):\n",
    "            orig_patch_list.append((torch.from_numpy(orig_patches[i]).unsqueeze(0).unsqueeze(0)).float().cuda())\n",
    "            patches.append((torch.from_numpy(blur_and_upscale(orig_patches[i],self.scale)).unsqueeze(0).unsqueeze(0)).float().cuda())\n",
    "            \n",
    "        infoDict['orig_patches'] = orig_patch_list\n",
    "        infoDict['patches'] = patches\n",
    "        \n",
    "        return infoDict"
   ]
  },
  {
   "cell_type": "code",
   "execution_count": 14,
   "metadata": {},
   "outputs": [],
   "source": [
    "dataset = rgb91(dataset_train_path,scale_factor,transform=img_transform)"
   ]
  },
  {
   "cell_type": "markdown",
   "metadata": {},
   "source": [
    "## Model"
   ]
  },
  {
   "cell_type": "code",
   "execution_count": 15,
   "metadata": {},
   "outputs": [],
   "source": [
    "class ten(nn.Module):\n",
    "    def __init__(self):\n",
    "        super(ten, self).__init__()\n",
    "        self.model = nn.Sequential(\n",
    "\n",
    "            nn.Conv2d(1,64,7,stride=1,padding=3),\n",
    "            nn.ReLU(True),\n",
    "\n",
    "            nn.Conv2d(64,32,5,stride=1,padding=2),\n",
    "            nn.ReLU(True),\n",
    "\n",
    "            nn.Conv2d(32,32,3,stride=1,padding=1),\n",
    "            nn.ReLU(True),\n",
    "\n",
    "            nn.Conv2d(32,1,3,stride=1,padding=1)\n",
    "        )\n",
    "\n",
    "    def forward(self,x):\n",
    "        x = self.model(x)\n",
    "        return x"
   ]
  },
  {
   "cell_type": "code",
   "execution_count": 16,
   "metadata": {},
   "outputs": [],
   "source": [
    "model = torch.nn.DataParallel(ten()).cuda()\n",
    "criterion = nn.MSELoss()\n",
    "optimizer = torch.optim.Adam(model.parameters(), lr=learning_rate,weight_decay=weight_decay)"
   ]
  },
  {
   "cell_type": "markdown",
   "metadata": {},
   "source": [
    "## Run the model"
   ]
  },
  {
   "cell_type": "code",
   "execution_count": null,
   "metadata": {
    "scrolled": true
   },
   "outputs": [
    {
     "name": "stderr",
     "output_type": "stream",
     "text": [
      "\r",
      "  0%|          | 0/2 [00:00<?, ?it/s]"
     ]
    },
    {
     "name": "stdout",
     "output_type": "stream",
     "text": [
      "<----- START EPOCH 1 ------->\n",
      "\n"
     ]
    }
   ],
   "source": [
    "# Deletes old output\n",
    "# !rm ../output/try2/*\n",
    "\n",
    "model_output_dir = '../output/try5/model'\n",
    "\n",
    "logs = open('../output/try5/logs.txt',\"w\")\n",
    "logs.write('Thermal Enhancement Network (TEN) - Results\\n\\n')\n",
    "\n",
    "total_epoch_time = 0\n",
    "losses = []\n",
    "epoch_num = 0\n",
    "\n",
    "for epoch in tqdm(range(num_epochs)):\n",
    "    \n",
    "    epoch_num += 1\n",
    "    \n",
    "    logs.write('Epoch {epoch_num} Start')plt.imrea\n",
    "    print(f'<----- START EPOCH {epoch_num} ------->\\n')\n",
    "    \n",
    "    saveImg = random.choice([f for f in os.listdir(dataset_train_path) if f.endswith('.bmp')])\n",
    "      \n",
    "    start = time()    \n",
    "    \n",
    "    for ind, imgDict in enumerate(dataset):\n",
    "        \n",
    "        print(\"Image index \",ind,imgDict['name'])\n",
    "        \n",
    "        origPatches = imgDict['orig_patches']\n",
    "        patches = imgDict['patches']\n",
    "        \n",
    "        patches = \n",
    "        \n",
    "#         out = []\n",
    "        \n",
    "#         for orig,patch in zip(origPatches,patches):\n",
    "#             patch = Variable(patch).cuda()\n",
    "            \n",
    "#             print(\"Sending patch forward...\")\n",
    "            \n",
    "#             # forward\n",
    "#             output = model(patch)\n",
    "#             loss = criterion(output, orig)\n",
    "\n",
    "#             # save results\n",
    "#             pict = output.cpu().data\n",
    "#             out.append(pict)\n",
    "\n",
    "#             # backward\n",
    "#             optimizer.zero_grad()\n",
    "#             loss.backward()\n",
    "#             optimizer.step()\n",
    "        \n",
    "#         if saveImg == imgDict['name']:\n",
    "#             outPatches = [x.numpy() for x in out]\n",
    "#             outPatches = np.array(outPatches)\n",
    "#             outPatches = np.squeeze(outPatches)\n",
    "#             reconst_image = image.reconstruct_from_patches_2d(outPatches,(imgDict['height'],imgDict['width']))\n",
    "#             plt.imsave(f'../output/try5/reconst/epoch{epoch_num}_{imgDict[\"name\"]}',reconst_image)\n",
    "#             logs.write(f'Saved reconstructed image. Original Image {imgDict[\"name\"]}')\n",
    "#             print(f'Saved reconstructed image. Original Image {imgDict[\"name\"]}')\n",
    "            \n",
    "        \n",
    "    epoch_time = time() - start\n",
    "    total_epoch_time += epoch_time\n",
    "    \n",
    "    logs.write('Epoch {epoch_num} End')\n",
    "    print(f'<----- END EPOCH {epoch_num} ------->\\n')\n",
    "    \n",
    "    losses.append(loss.item())\n",
    "    \n",
    "    logs.write(f'Epoch {epoch_num}/{num_epochs}, loss {loss.item():.4f}, time {epoch_time:.4f} s \\n')\n",
    "    \n",
    "    # Save/Update current model\n",
    "    save_checkpoint({\n",
    "            'epoch': epoch,\n",
    "            'state_dict': model.state_dict(),\n",
    "            'optimizer' : optimizer.state_dict(),\n",
    "        }, model_output_dir, filename=f'current.pth')\n",
    "    logs.write(f'Model Saved: Epoch {epoch_num} \\n')\n",
    "    \n",
    "    # Save model every 20 epochs\n",
    "\n",
    "    if epoch%20 == 0 or epoch == num_epochs-1:\n",
    "        \n",
    "        save_checkpoint({\n",
    "            'epoch': epoch,\n",
    "            'state_dict': model.state_dict(),\n",
    "            'optimizer' : optimizer.state_dict(),\n",
    "        }, model_output_dir, filename=f'model_{epoch_num}.pth')\n",
    "        \n",
    "        logs.write(f'Model Saved: Epoch {epoch_num} \\n')\n",
    "    \n",
    "    # Decay learning rate by 10 every 30 epochs until 60 epochs\n",
    "    \n",
    "    if (epoch_num)%30 == 0 and (epoch_num<=59):\n",
    "        learning_rate = learning_rate/10\n",
    "        for param_group in optimizer.param_groups:\n",
    "            param_group['lr'] = learning_rate\n",
    "        logs.write(f'Learning Rate set to {learning_rate}\\n')\n",
    "        print(f'Learning Rate set to {learning_rate}')\n",
    "        \n",
    "    \n",
    "    print(f'\\n<----- END EPOCH {epoch_num} ------->\\n')\n",
    "\n",
    "print(f'Average Time: {total_epoch_time/num_epochs:.4f} seconds')\n",
    "print(f'Average Loss: {sum(losses) / len(losses):.4f}')\n",
    "\n",
    "logs.write(f'\\n\\nAverage Time: {total_epoch_time/num_epochs:.4f} seconds\\n')\n",
    "logs.write(f'\\nAverage Loss: {sum(losses) / len(losses):.4f}\\n')\n",
    "logs.write('\\n\\nLOSSES Array\\n[')\n",
    "for x in losses:\n",
    "    logs.write(str(x))\n",
    "    logs.write(', ')\n",
    "logs.write(']')\n",
    "logs.write('\\n\\nAll epochs completed!\\n\\n')\n",
    "logs.close()"
   ]
  },
  {
   "cell_type": "code",
   "execution_count": null,
   "metadata": {},
   "outputs": [],
   "source": [
    "img = PIL.Image.open(os.path.join(dataset_train_path,'t3.bmp')).convert('LA')\n",
    "print(img.size)\n",
    "plt.imshow(img)\n",
    "plt.show()\n",
    "img = img.filter(ImageFilter.GaussianBlur(radius=2))\n",
    "img = img.resize((36*2,36*2),PIL.Image.BICUBIC)\n",
    "img = np.array(img)\n",
    "# plt.imshow(img)\n",
    "# plt.show()\n",
    "img2 = PIL.Image.fromarray(img,'LA')\n",
    "plt.imshow(img2)\n",
    "plt.show()\n",
    "img = np.dot(img[...,:3], [0.299, 0.587, 0.114])\n",
    "plt.imshow(img,cmap='gray')\n",
    "imgPatches = image.extract_patches_2d(gray, (36, 36))\n",
    "print(imgPatches[0].shape)"
   ]
  },
  {
   "cell_type": "code",
   "execution_count": 144,
   "metadata": {},
   "outputs": [
    {
     "name": "stdout",
     "output_type": "stream",
     "text": [
      "22842\n"
     ]
    },
    {
     "data": {
      "text/plain": [
       "(22842, 36, 36)"
      ]
     },
     "execution_count": 144,
     "metadata": {},
     "output_type": "execute_result"
    }
   ],
   "source": [
    "imgPatches.shape\n",
    "x = []\n",
    "for t in range(imgPatches.shape[0]):\n",
    "    x.append(imgPatches[t])\n",
    "print(len(x))\n",
    "np.array(x).shape"
   ]
  },
  {
   "cell_type": "code",
   "execution_count": 272,
   "metadata": {
    "scrolled": true
   },
   "outputs": [
    {
     "name": "stdout",
     "output_type": "stream",
     "text": [
      "(155, 191)\n"
     ]
    },
    {
     "data": {
      "image/png": "[encoded data removed]",
      "text/plain": [
       "<Figure size 432x288 with 1 Axes>"
      ]
     },
     "metadata": {},
     "output_type": "display_data"
    }
   ],
   "source": [
    "img = imageio.imread(os.path.join(dataset_train_path,'t3.bmp')).dot([0.299, 0.587, 0.114])\n",
    "plt.imshow(img,cmap='gray')\n",
    "print(img.shape)"
   ]
  },
  {
   "cell_type": "code",
   "execution_count": 20,
   "metadata": {},
   "outputs": [],
   "source": [
    "import imageio"
   ]
  },
  {
   "cell_type": "code",
   "execution_count": 25,
   "metadata": {},
   "outputs": [
    {
     "data": {
      "text/plain": [
       "(176, 197, 3)"
      ]
     },
     "execution_count": 25,
     "metadata": {},
     "output_type": "execute_result"
    }
   ],
   "source": [
    "a = mpimg.imread('../dataset/rgb91/t1.bmp')\n",
    "a.shape"
   ]
  },
  {
   "cell_type": "code",
   "execution_count": 26,
   "metadata": {},
   "outputs": [
    {
     "ename": "ValueError",
     "evalue": "Format 'bmp' is not supported (supported formats: eps, jpeg, jpg, pdf, pgf, png, ps, raw, rgba, svg, svgz, tif, tiff)",
     "output_type": "error",
     "traceback": [
      "\u001b[0;31m---------------------------------------------------------------------------\u001b[0m",
      "\u001b[0;31mValueError\u001b[0m                                Traceback (most recent call last)",
      "\u001b[0;32m<ipython-input-26-7cb274f4132c>\u001b[0m in \u001b[0;36m<module>\u001b[0;34m()\u001b[0m\n\u001b[0;32m----> 1\u001b[0;31m \u001b[0mmpimg\u001b[0m\u001b[0;34m.\u001b[0m\u001b[0mimsave\u001b[0m\u001b[0;34m(\u001b[0m\u001b[0;34m'a.bmp'\u001b[0m\u001b[0;34m,\u001b[0m\u001b[0ma\u001b[0m\u001b[0;34m)\u001b[0m\u001b[0;34m\u001b[0m\u001b[0;34m\u001b[0m\u001b[0m\n\u001b[0m",
      "\u001b[0;32m~/.local/lib/python3.6/site-packages/matplotlib/image.py\u001b[0m in \u001b[0;36mimsave\u001b[0;34m(fname, arr, vmin, vmax, cmap, format, origin, dpi)\u001b[0m\n\u001b[1;32m   1430\u001b[0m         fig.figimage(arr, cmap=cmap, vmin=vmin, vmax=vmax, origin=origin,\n\u001b[1;32m   1431\u001b[0m                      resize=True)\n\u001b[0;32m-> 1432\u001b[0;31m         \u001b[0mfig\u001b[0m\u001b[0;34m.\u001b[0m\u001b[0msavefig\u001b[0m\u001b[0;34m(\u001b[0m\u001b[0mfname\u001b[0m\u001b[0;34m,\u001b[0m \u001b[0mdpi\u001b[0m\u001b[0;34m=\u001b[0m\u001b[0mdpi\u001b[0m\u001b[0;34m,\u001b[0m \u001b[0mformat\u001b[0m\u001b[0;34m=\u001b[0m\u001b[0mformat\u001b[0m\u001b[0;34m,\u001b[0m \u001b[0mtransparent\u001b[0m\u001b[0;34m=\u001b[0m\u001b[0;32mTrue\u001b[0m\u001b[0;34m)\u001b[0m\u001b[0;34m\u001b[0m\u001b[0;34m\u001b[0m\u001b[0m\n\u001b[0m\u001b[1;32m   1433\u001b[0m \u001b[0;34m\u001b[0m\u001b[0m\n\u001b[1;32m   1434\u001b[0m \u001b[0;34m\u001b[0m\u001b[0m\n",
      "\u001b[0;32m~/.local/lib/python3.6/site-packages/matplotlib/figure.py\u001b[0m in \u001b[0;36msavefig\u001b[0;34m(self, fname, **kwargs)\u001b[0m\n\u001b[1;32m   2033\u001b[0m             \u001b[0mself\u001b[0m\u001b[0;34m.\u001b[0m\u001b[0mset_frameon\u001b[0m\u001b[0;34m(\u001b[0m\u001b[0mframeon\u001b[0m\u001b[0;34m)\u001b[0m\u001b[0;34m\u001b[0m\u001b[0;34m\u001b[0m\u001b[0m\n\u001b[1;32m   2034\u001b[0m \u001b[0;34m\u001b[0m\u001b[0m\n\u001b[0;32m-> 2035\u001b[0;31m         \u001b[0mself\u001b[0m\u001b[0;34m.\u001b[0m\u001b[0mcanvas\u001b[0m\u001b[0;34m.\u001b[0m\u001b[0mprint_figure\u001b[0m\u001b[0;34m(\u001b[0m\u001b[0mfname\u001b[0m\u001b[0;34m,\u001b[0m \u001b[0;34m**\u001b[0m\u001b[0mkwargs\u001b[0m\u001b[0;34m)\u001b[0m\u001b[0;34m\u001b[0m\u001b[0;34m\u001b[0m\u001b[0m\n\u001b[0m\u001b[1;32m   2036\u001b[0m \u001b[0;34m\u001b[0m\u001b[0m\n\u001b[1;32m   2037\u001b[0m         \u001b[0;32mif\u001b[0m \u001b[0mframeon\u001b[0m\u001b[0;34m:\u001b[0m\u001b[0;34m\u001b[0m\u001b[0;34m\u001b[0m\u001b[0m\n",
      "\u001b[0;32m~/.local/lib/python3.6/site-packages/matplotlib/backend_bases.py\u001b[0m in \u001b[0;36mprint_figure\u001b[0;34m(self, filename, dpi, facecolor, edgecolor, orientation, format, **kwargs)\u001b[0m\n\u001b[1;32m   2171\u001b[0m \u001b[0;34m\u001b[0m\u001b[0m\n\u001b[1;32m   2172\u001b[0m         \u001b[0;31m# get canvas object and print method for format\u001b[0m\u001b[0;34m\u001b[0m\u001b[0;34m\u001b[0m\u001b[0;34m\u001b[0m\u001b[0m\n\u001b[0;32m-> 2173\u001b[0;31m         \u001b[0mcanvas\u001b[0m \u001b[0;34m=\u001b[0m \u001b[0mself\u001b[0m\u001b[0;34m.\u001b[0m\u001b[0m_get_output_canvas\u001b[0m\u001b[0;34m(\u001b[0m\u001b[0mformat\u001b[0m\u001b[0;34m)\u001b[0m\u001b[0;34m\u001b[0m\u001b[0;34m\u001b[0m\u001b[0m\n\u001b[0m\u001b[1;32m   2174\u001b[0m         \u001b[0mprint_method\u001b[0m \u001b[0;34m=\u001b[0m \u001b[0mgetattr\u001b[0m\u001b[0;34m(\u001b[0m\u001b[0mcanvas\u001b[0m\u001b[0;34m,\u001b[0m \u001b[0;34m'print_%s'\u001b[0m \u001b[0;34m%\u001b[0m \u001b[0mformat\u001b[0m\u001b[0;34m)\u001b[0m\u001b[0;34m\u001b[0m\u001b[0;34m\u001b[0m\u001b[0m\n\u001b[1;32m   2175\u001b[0m \u001b[0;34m\u001b[0m\u001b[0m\n",
      "\u001b[0;32m~/.local/lib/python3.6/site-packages/matplotlib/backend_bases.py\u001b[0m in \u001b[0;36m_get_output_canvas\u001b[0;34m(self, fmt)\u001b[0m\n\u001b[1;32m   2103\u001b[0m         raise ValueError(\n\u001b[1;32m   2104\u001b[0m             \u001b[0;34m\"Format {!r} is not supported (supported formats: {})\"\u001b[0m\u001b[0;34m\u001b[0m\u001b[0;34m\u001b[0m\u001b[0m\n\u001b[0;32m-> 2105\u001b[0;31m             .format(fmt, \", \".join(sorted(self.get_supported_filetypes()))))\n\u001b[0m\u001b[1;32m   2106\u001b[0m \u001b[0;34m\u001b[0m\u001b[0m\n\u001b[1;32m   2107\u001b[0m     def print_figure(self, filename, dpi=None, facecolor=None, edgecolor=None,\n",
      "\u001b[0;31mValueError\u001b[0m: Format 'bmp' is not supported (supported formats: eps, jpeg, jpg, pdf, pgf, png, ps, raw, rgba, svg, svgz, tif, tiff)"
     ]
    }
   ],
   "source": [
    "mpimg.imsave('a.bmp',a)"
   ]
  },
  {
   "cell_type": "code",
   "execution_count": null,
   "metadata": {},
   "outputs": [],
   "source": []
  }
 ],
 "metadata": {
  "kernelspec": {
   "display_name": "Python 3",
   "language": "python",
   "name": "python3"
  },
  "language_info": {
   "codemirror_mode": {
    "name": "ipython",
    "version": 3
   },
   "file_extension": ".py",
   "mimetype": "text/x-python",
   "name": "python",
   "nbconvert_exporter": "python",
   "pygments_lexer": "ipython3",
   "version": "3.6.7"
  }
 },
 "nbformat": 4,
 "nbformat_minor": 2
}
