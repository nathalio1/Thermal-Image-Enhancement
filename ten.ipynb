{
 "cells": [
  {
   "cell_type": "code",
   "execution_count": 1,
   "metadata": {},
   "outputs": [],
   "source": [
    "import torch\n",
    "import torchvision\n",
    "from torch import nn"
   ]
  },
  {
   "cell_type": "code",
   "execution_count": null,
   "metadata": {},
   "outputs": [],
   "source": [
    "class ten(nn.Module):\n",
    "    super(ten,self).__init__()\n",
    "    self.model = (\n",
    "        \n",
    "        nn.Conv2d(3,64,7,stride=1,padding=3),\n",
    "        nn.ReLU(True),\n",
    "        \n",
    "        nn.Conv2d(64,32,5,stride=1,padding=2),\n",
    "        nn.ReLU(True),\n",
    "        \n",
    "        nn.Conv2d(32,32,3,stride=1,padding=1),\n",
    "        nn.ReLU(True),\n",
    "        \n",
    "        nn.Conv2d(32,1,3,stride=1,padding=1)\n",
    "    )"
   ]
  }
 ],
 "metadata": {
  "kernelspec": {
   "display_name": "Python 3",
   "language": "python",
   "name": "python3"
  },
  "language_info": {
   "codemirror_mode": {
    "name": "ipython",
    "version": 3
   },
   "file_extension": ".py",
   "mimetype": "text/x-python",
   "name": "python",
   "nbconvert_exporter": "python",
   "pygments_lexer": "ipython3",
   "version": "3.6.6"
  }
 },
 "nbformat": 4,
 "nbformat_minor": 2
}
