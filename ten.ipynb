{
 "cells": [
  {
   "cell_type": "markdown",
   "metadata": {},
   "source": [
    "# Thermal Image Enhancement Network (TEN) - IROS 2018\n",
    "Thermal Image Enhancement using Convolution Neural Network"
   ]
  },
  {
   "cell_type": "code",
   "execution_count": 17,
   "metadata": {},
   "outputs": [],
   "source": [
    "import torch\n",
    "import torchvision\n",
    "from torch import nn\n",
    "from torch.utils.data.dataset import Dataset\n",
    "from torch.utils.data import DataLoader\n",
    "from torchvision import transforms\n",
    "\n",
    "import PIL.Image\n",
    "from PIL import ImageFilter\n",
    "import matplotlib\n",
    "import matplotlib.pyplot as plt\n",
    "\n",
    "import os\n",
    "\n",
    "from tqdm import tqdm\n",
    "\n",
    "%matplotlib inline"
   ]
  },
  {
   "cell_type": "markdown",
   "metadata": {},
   "source": [
    "## Image Transforms"
   ]
  },
  {
   "cell_type": "code",
   "execution_count": 18,
   "metadata": {},
   "outputs": [],
   "source": [
    "img_transform = transforms.Compose([\n",
    "    transforms.ToTensor(),\n",
    "])"
   ]
  },
  {
   "cell_type": "markdown",
   "metadata": {},
   "source": [
    "## Dataset"
   ]
  },
  {
   "cell_type": "code",
   "execution_count": 19,
   "metadata": {},
   "outputs": [],
   "source": [
    "dataset_train_path = '/DATA1/chaitanya/ninad3/dataset/rgb91/'\n",
    "assert(os.path.exists(dataset_train_path))"
   ]
  },
  {
   "cell_type": "code",
   "execution_count": 20,
   "metadata": {},
   "outputs": [],
   "source": [
    "class rgb91(Dataset):\n",
    "    \n",
    "    def __init__(self,path,scale,transform=None):\n",
    "        \n",
    "        self.path = path\n",
    "        self.scale = scale\n",
    "        self.transform = transform\n",
    "    \n",
    "    def __len__(self):\n",
    "        \n",
    "        return len(os.listdir(self.path))\n",
    "    \n",
    "    def __getitem__(self,idx):\n",
    "        \n",
    "        imgList = os.listdir(self.path)\n",
    "        imgName = imgList[idx]\n",
    "        \n",
    "        imgPath = os.path.join(self.path,imgName)\n",
    "        \n",
    "        img = PIL.Image.open(imgPath)\n",
    "        img = img.filter(ImageFilter.GaussianBlur(radius=self.scale))\n",
    "        img = img.resize((800,400),Image.BICUBIC)\n",
    "        \n",
    "        if self.transform is not None:\n",
    "            img = self.transform(img)\n",
    "       \n",
    "        return (imgPath,img)"
   ]
  },
  {
   "cell_type": "markdown",
   "metadata": {},
   "source": [
    "## Parameters"
   ]
  },
  {
   "cell_type": "code",
   "execution_count": 21,
   "metadata": {},
   "outputs": [],
   "source": [
    "batch_size = 128\n",
    "learning_rate = 0.001\n",
    "num_epochs = 100\n",
    "weight_decay = 5e-4"
   ]
  },
  {
   "cell_type": "markdown",
   "metadata": {},
   "source": [
    "## Model"
   ]
  },
  {
   "cell_type": "code",
   "execution_count": 22,
   "metadata": {},
   "outputs": [],
   "source": [
    "class ten(nn.Module):\n",
    "    def __init__(self):\n",
    "        super(ten, self).__init__()\n",
    "        self.model = nn.Sequential(\n",
    "\n",
    "            nn.Conv2d(1,64,7,stride=1,padding=3),\n",
    "            nn.ReLU(True),\n",
    "\n",
    "            nn.Conv2d(64,32,5,stride=1,padding=2),\n",
    "            nn.ReLU(True),\n",
    "\n",
    "            nn.Conv2d(32,32,3,stride=1,padding=1),\n",
    "            nn.ReLU(True),\n",
    "\n",
    "            nn.Conv2d(32,1,3,stride=1,padding=1)\n",
    "        )\n",
    "\n",
    "    def forward(self,x):\n",
    "        x = self.model(x)\n",
    "        return x"
   ]
  },
  {
   "cell_type": "code",
   "execution_count": 23,
   "metadata": {},
   "outputs": [],
   "source": [
    "model = torch.nn.DataParallel(ten()).cuda()\n",
    "criterion = nn.MSELoss()\n",
    "optimizer = torch.optim.Adam(model.parameters(), lr=learning_rate, \n",
    "                             weight_decay=weight_decay)"
   ]
  },
  {
   "cell_type": "markdown",
   "metadata": {},
   "source": [
    "## Run the model"
   ]
  },
  {
   "cell_type": "code",
   "execution_count": null,
   "metadata": {},
   "outputs": [],
   "source": [
    "logs = open('./results/4e4d/try5/logs.txt',\"w\")\n",
    "logs.write('Thermal Enhancement Network (TEN) - Results\\n\\n')\n",
    "\n",
    "total_epoch_time = 0\n",
    "losses = []\n",
    "\n",
    "for epoch in tqdm(range(num_epochs)):\n",
    "    \n",
    "    start = time()\n",
    "    \n",
    "    \n",
    "    "
   ]
  },
  {
   "cell_type": "markdown",
   "metadata": {},
   "source": [
    "## Methods"
   ]
  },
  {
   "cell_type": "code",
   "execution_count": null,
   "metadata": {},
   "outputs": [],
   "source": [
    "def adjust_learning_rate(optimizer, epoch):\n",
    "    \"\"\"Sets the learning rate to the initial LR decayed by 10 every 30 epochs\"\"\"\n",
    "    learning_rate = learning_rate/10\n",
    "    logs.write(f'Learning Rate set to {learning_rate}\\n')\n",
    "    print(f'Learning Rate set to {learning_rate}')\n",
    "    for param_group in optimizer.param_groups:\n",
    "        param_group['lr'] = learning_rate"
   ]
  },
  {
   "cell_type": "code",
   "execution_count": null,
   "metadata": {},
   "outputs": [],
   "source": [
    "def save_checkpoint(state, output_dir, filename):\n",
    "    torch.save(state, os.path.join(output_dir,filename))"
   ]
  }
 ],
 "metadata": {
  "kernelspec": {
   "display_name": "Python 3",
   "language": "python",
   "name": "python3"
  },
  "language_info": {
   "codemirror_mode": {
    "name": "ipython",
    "version": 3
   },
   "file_extension": ".py",
   "mimetype": "text/x-python",
   "name": "python",
   "nbconvert_exporter": "python",
   "pygments_lexer": "ipython3",
   "version": "3.6.6"
  }
 },
 "nbformat": 4,
 "nbformat_minor": 2
}
